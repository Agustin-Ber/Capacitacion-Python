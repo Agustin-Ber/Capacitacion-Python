{
 "cells": [
  {
   "cell_type": "markdown",
   "metadata": {},
   "source": [
    "## Ejercicios Python"
   ]
  },
  {
   "cell_type": "markdown",
   "metadata": {},
   "source": [
    "Escribe un programa en Python que imprima los primeros 100 números enteros naturales (1...100)\n",
    "\n",
    "Escribe un programa en Python que invierta una cadena de texto\n",
    "\n",
    "Escribe un programa en Python que muestre el primer y el último color de la siguiente lista. \n",
    "lista_de_colores = [\"Rojo\", \"Verde\", \"Blanco\" , \"Negro\"]\n",
    "\n",
    "Escribe un programa en Python que acepte un entero (n) y calcule el valor del cuadrado de n (n x n)\n",
    "\n",
    "Escribe un programa en Python que calcule el número de días entre dos fechas.\n",
    "Fechas de ejemplo : (2014, 7, 2), (2014, 7, 11)\n",
    "\n",
    "Escribe una función Python para calcular la suma de tres números dados, si los valores son iguales entonces devuelve el triple de su suma.\n",
    "\n",
    "Escribe una función en Python para calcular el interés de un préstamo.  ????????????\n",
    "Pista: def calculadora_de_préstamo(capital,tipo_de_interés):\n"
   ]
  },
  {
   "cell_type": "code",
   "execution_count": null,
   "metadata": {},
   "outputs": [],
   "source": []
  }
 ],
 "metadata": {
  "kernelspec": {
   "display_name": "Python 3",
   "language": "python",
   "name": "python3"
  },
  "language_info": {
   "codemirror_mode": {
    "name": "ipython",
    "version": 3
   },
   "file_extension": ".py",
   "mimetype": "text/x-python",
   "name": "python",
   "nbconvert_exporter": "python",
   "pygments_lexer": "ipython3",
   "version": "3.7.3"
  }
 },
 "nbformat": 4,
 "nbformat_minor": 5
}
