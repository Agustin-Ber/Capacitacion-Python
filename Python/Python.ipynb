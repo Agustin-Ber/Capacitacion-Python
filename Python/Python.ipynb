{
 "cells": [
  {
   "cell_type": "markdown",
   "metadata": {},
   "source": [
    "# Módulo 1"
   ]
  },
  {
   "cell_type": "markdown",
   "metadata": {},
   "source": [
    "### Contenidos\n",
    "- [Introducción a Python](#Introducción-a-Python)\n",
    "- [Section 2](#Anaconda)\n",
    "- [Section 3](#Section-3)"
   ]
  },
  {
   "cell_type": "markdown",
   "metadata": {},
   "source": [
    "## Introducción a Python\n",
    "------------------------\n",
    "\n",
    "¿Qué es **Python**?\n",
    "\n",
    "[**Python**](https://es.wikipedia.org/wiki/Python#Historia) es un lenguaje de programación interpretado, orientado a objetos, de alto nivel y con semántica dinámica.\n",
    "Python admite módulos y paquetes, lo que fomenta la modularidad del programa y la reutilización del código.\n",
    "\n",
    "<br>\n",
    "\n",
    "<br>\n",
    "\n",
    "**Breve historia sobre python:**\n",
    "\n",
    "\n",
    "El lenguaje fue desarrollado por [Guido Van Rossum](https://es.wikipedia.org/wiki/Guido_van_Rossum) mientras se encontraba trabajando en el Centro para las Matemáticas y la Informática (CWI) en los Países Bajos, en el año 1989, aunque su primera versión fue publicada en 1991.\n",
    "\n",
    "Python como lenguaje de programación hace un enfásis especial en su capacidad para ser leído por otros programadores. Esta aparante sencillez a la hora de leer el código le ha permitido gozar de una gran popularidad en general. Esta misma característica de simplicidad llevó a establecer una especie de filosofía al momento de desarrollar con este lenguaje:\n",
    "\n",
    "<br>\n",
    "\n",
    "<br>\n",
    "\n",
    "[**The Zen of Python**](https://www.python.org/dev/peps/pep-0020/)\n",
    "\n",
    "\n",
    "1.    Lo bonito es mejor que lo feo.\n",
    "2.    Lo explícito es mejor que lo implícito.\n",
    "3.    Lo simple es mejor que lo complejo.\n",
    "4.    Lo complejo es mejor que lo complicado.\n",
    "5.    Lo simple es mejor que lo anidado.\n",
    "6.    Lo disperso es mejor que lo denso.\n",
    "7.    La legibilidad es importante.\n",
    "8.    Los casos especiales no son tan especiales como para romper las reglas.\n",
    "9.    Aunque la practicidad gana a la pureza.\n",
    "10.    Los errores nunca deben pasar en silencio.\n",
    "11.    A no ser que se silencien explícitamente.\n",
    "12.    Ante la ambigüedad, rechace la tentación de adivinar.\n",
    "13.    Debe haber una -y preferiblemente sólo una- forma obvia de hacerlo.\n",
    "14.    Aunque esa manera puede no ser obvia al principio, a menos que seas holandés. (Referencia al lenguaje Perl, más complejo,        cuyo creador NO es holándes)\n",
    "15.    Ahora es mejor que nunca.\n",
    "16.    Aunque nunca es a menudo mejor que *ahora mismo*.\n",
    "17.    Si la implementación es difícil de explicar, es una mala idea.\n",
    "18.    Si la implementación es fácil de explicar, puede ser una buena idea.\n",
    "19.    Los \"namespaces\" son una gran idea -¡hagamos más de esos!\n"
   ]
  },
  {
   "cell_type": "markdown",
   "metadata": {},
   "source": [
    "### Intérprete vs Script\n",
    "\n",
    "Existen dos formas básicas de ejecutar código en Python:\n",
    "\n",
    "1. Ejecutar el intérprete de Python desde una terminal\n",
    "2. Escribir código en un fichero con extensión **.py** (conocido de forma común como script) y ejecutarlo en una terminal. \n",
    "\n",
    "<br>\n",
    "\n",
    "<br>\n",
    "\n",
    "Mostramos dos ejemplos básicos:\n",
    "\n",
    "Hacemos un print a la cadena de carácteres **Hola Havas**, acá estamos ejecutando código directamente desde la terminal\n",
    "\n",
    "<img src=\"imgs/terminal_1.png\" style=\"width: 750px;\">\n",
    "\n",
    "\n",
    "En este segundo ejemplo ejecutamos un fichero con extensión **.py** en el que ya está escrito el código\n",
    "\n",
    "<img src=\"imgs/terminal_2.png\" style=\"width: 750px;\">\n"
   ]
  },
  {
   "cell_type": "markdown",
   "metadata": {},
   "source": [
    "### IPython y Notebook\n",
    "[IPython](http://ipython.org/) o Interactive Python es conjunto de herramientas que fueron desarrolladas con el objetivo de facilitar el desarrollo y procesamiento de datos en python. "
   ]
  },
  {
   "cell_type": "markdown",
   "metadata": {},
   "source": [
    "### Anaconda\n",
    "\n",
    "Anaconda es una suite de código abierto que abarca una serie de aplicaciones, librerías y conceptos diseñados para el desarrollo de la ciencia de datos con Python."
   ]
  },
  {
   "cell_type": "markdown",
   "metadata": {},
   "source": [
    "### Variables y Tipos de datos\n",
    "\n",
    "Existen 3 tipos de variables básicas en python:\n",
    "\n",
    "- Int: Integer o Entero\n",
    "- Float: Número decimal\n",
    "- String: Cadena de carácteres\n",
    "- Bool: Booleanos, True o False\n",
    "\n",
    "Además existen dos estructuras o colecciones de datos:\n",
    "\n",
    "- Lista: list, implica una lista de elemenos\n",
    "- Diccionario: conjunto de valores con una llave y un valor\n"
   ]
  },
  {
   "cell_type": "markdown",
   "metadata": {},
   "source": [
    "Para declarar una variable, se utiliza el símbolo **=**"
   ]
  },
  {
   "cell_type": "code",
   "execution_count": 2,
   "metadata": {},
   "outputs": [
    {
     "name": "stdout",
     "output_type": "stream",
     "text": [
      "Hola Havas!\n"
     ]
    }
   ],
   "source": [
    "variable_1 = \"Hola Havas!\"\n",
    "\n",
    "# Con la función print() es posible imprimir o visualizar el contenido de una variable ya definida\n",
    "print(variable_1)"
   ]
  },
  {
   "cell_type": "markdown",
   "metadata": {},
   "source": [
    "Con la función **type()** podemos saber el tipo de dato de una variable"
   ]
  },
  {
   "cell_type": "code",
   "execution_count": 3,
   "metadata": {},
   "outputs": [
    {
     "data": {
      "text/plain": [
       "str"
      ]
     },
     "execution_count": 3,
     "metadata": {},
     "output_type": "execute_result"
    }
   ],
   "source": [
    "type(variable_1)"
   ]
  },
  {
   "cell_type": "markdown",
   "metadata": {},
   "source": [
    "### Variables Númericas"
   ]
  },
  {
   "cell_type": "markdown",
   "metadata": {},
   "source": [
    "A continuación se presentan las operaciones básicas con python:\n",
    "\n",
    "<img src=\"imgs/Operaciones.png\" style=\"width: 550px;\">"
   ]
  },
  {
   "cell_type": "code",
   "execution_count": 10,
   "metadata": {},
   "outputs": [
    {
     "name": "stdout",
     "output_type": "stream",
     "text": [
      "Suma: 5\n",
      "Resta: -1\n",
      "División: 0.6666666666666666\n",
      "Resto de la división: 2\n",
      "Pasamos a float: 2.0\n"
     ]
    }
   ],
   "source": [
    "x = 2\n",
    "y = 3\n",
    "\n",
    "print(\"Suma: {}\".format( x + y))\n",
    "print(\"Resta: {}\".format( x - y))\n",
    "print(\"División: {}\".format( x / y))\n",
    "print(\"Resto de la división: {}\".format( x % y))\n",
    "\n",
    "print(\"Pasamos a float: {}\".format(float(x)))"
   ]
  },
  {
   "cell_type": "code",
   "execution_count": 5,
   "metadata": {},
   "outputs": [],
   "source": [
    "x = 5\n",
    "y = 8"
   ]
  },
  {
   "cell_type": "markdown",
   "metadata": {},
   "source": [
    "Suma de las variables **x** + **y**"
   ]
  },
  {
   "cell_type": "code",
   "execution_count": 6,
   "metadata": {},
   "outputs": [
    {
     "data": {
      "text/plain": [
       "13"
      ]
     },
     "execution_count": 6,
     "metadata": {},
     "output_type": "execute_result"
    }
   ],
   "source": [
    "x + y "
   ]
  },
  {
   "cell_type": "markdown",
   "metadata": {},
   "source": [
    "Multiplicación de las variables x + y"
   ]
  },
  {
   "cell_type": "code",
   "execution_count": 7,
   "metadata": {},
   "outputs": [
    {
     "data": {
      "text/plain": [
       "40"
      ]
     },
     "execution_count": 7,
     "metadata": {},
     "output_type": "execute_result"
    }
   ],
   "source": [
    "x * y"
   ]
  },
  {
   "cell_type": "markdown",
   "metadata": {},
   "source": [
    "Elevamos **x** a la potencia **y**"
   ]
  },
  {
   "cell_type": "code",
   "execution_count": 8,
   "metadata": {},
   "outputs": [
    {
     "data": {
      "text/plain": [
       "390625"
      ]
     },
     "execution_count": 8,
     "metadata": {},
     "output_type": "execute_result"
    }
   ],
   "source": [
    "x ** y"
   ]
  },
  {
   "cell_type": "markdown",
   "metadata": {},
   "source": [
    "Dividimos **x** entre **y**"
   ]
  },
  {
   "cell_type": "code",
   "execution_count": 9,
   "metadata": {},
   "outputs": [
    {
     "data": {
      "text/plain": [
       "0.625"
      ]
     },
     "execution_count": 9,
     "metadata": {},
     "output_type": "execute_result"
    }
   ],
   "source": [
    "x / y"
   ]
  },
  {
   "cell_type": "markdown",
   "metadata": {},
   "source": [
    "Nos quedamos con el resto de la división entre **x** & **y** "
   ]
  },
  {
   "cell_type": "code",
   "execution_count": 10,
   "metadata": {},
   "outputs": [
    {
     "data": {
      "text/plain": [
       "5"
      ]
     },
     "execution_count": 10,
     "metadata": {},
     "output_type": "execute_result"
    }
   ],
   "source": [
    "x % y"
   ]
  },
  {
   "cell_type": "markdown",
   "metadata": {},
   "source": [
    "### Variables Strings"
   ]
  },
  {
   "cell_type": "code",
   "execution_count": 12,
   "metadata": {},
   "outputs": [
    {
     "name": "stdout",
     "output_type": "stream",
     "text": [
      "Hola, esta variable es un string\n"
     ]
    }
   ],
   "source": [
    "string = \"Hola, esta variable es un string\"\n",
    "print(string)"
   ]
  },
  {
   "cell_type": "markdown",
   "metadata": {},
   "source": [
    "Podemos sumar dos strings "
   ]
  },
  {
   "cell_type": "code",
   "execution_count": 12,
   "metadata": {},
   "outputs": [
    {
     "name": "stdout",
     "output_type": "stream",
     "text": [
      "Hola, esta variable es un string y Esto también es un string\n"
     ]
    }
   ],
   "source": [
    "string_2 = \"Esto también es un string\"\n",
    "\n",
    "print(string + \" y \" + string_2)"
   ]
  },
  {
   "cell_type": "markdown",
   "metadata": {},
   "source": [
    "Podemos multiplicar strings"
   ]
  },
  {
   "cell_type": "code",
   "execution_count": 13,
   "metadata": {},
   "outputs": [
    {
     "name": "stdout",
     "output_type": "stream",
     "text": [
      "Hola!Hola!Hola!\n"
     ]
    }
   ],
   "source": [
    "string_3 = \"Hola!\"\n",
    "print(string_3 * 3)"
   ]
  },
  {
   "cell_type": "markdown",
   "metadata": {},
   "source": [
    "Podemos acceder al primer elemento del string con \"**[0]**\""
   ]
  },
  {
   "cell_type": "code",
   "execution_count": 14,
   "metadata": {},
   "outputs": [
    {
     "data": {
      "text/plain": [
       "'H'"
      ]
     },
     "execution_count": 14,
     "metadata": {},
     "output_type": "execute_result"
    }
   ],
   "source": [
    "string[0]"
   ]
  },
  {
   "cell_type": "markdown",
   "metadata": {},
   "source": [
    "Podemos acceder al segundo elemento del string con \"**[1]**\""
   ]
  },
  {
   "cell_type": "code",
   "execution_count": 15,
   "metadata": {},
   "outputs": [
    {
     "data": {
      "text/plain": [
       "'o'"
      ]
     },
     "execution_count": 15,
     "metadata": {},
     "output_type": "execute_result"
    }
   ],
   "source": [
    "string[1]"
   ]
  },
  {
   "cell_type": "markdown",
   "metadata": {},
   "source": [
    "Podemos acceder desde el primer elemento al noveno del string con \"**[0:10]**\""
   ]
  },
  {
   "cell_type": "code",
   "execution_count": 16,
   "metadata": {},
   "outputs": [
    {
     "data": {
      "text/plain": [
       "'Hola, esta'"
      ]
     },
     "execution_count": 16,
     "metadata": {},
     "output_type": "execute_result"
    }
   ],
   "source": [
    "string[0:10]"
   ]
  },
  {
   "cell_type": "markdown",
   "metadata": {},
   "source": [
    "Podemos poner todas las lentras en mayúscula"
   ]
  },
  {
   "cell_type": "code",
   "execution_count": 18,
   "metadata": {},
   "outputs": [
    {
     "data": {
      "text/plain": [
       "'HOLA, ESTA VARIABLE ES UN STRING'"
      ]
     },
     "execution_count": 18,
     "metadata": {},
     "output_type": "execute_result"
    }
   ],
   "source": [
    "string.upper()"
   ]
  },
  {
   "cell_type": "markdown",
   "metadata": {},
   "source": [
    "ó en minúscula"
   ]
  },
  {
   "cell_type": "code",
   "execution_count": 24,
   "metadata": {},
   "outputs": [
    {
     "name": "stdout",
     "output_type": "stream",
     "text": [
      "hola, esta variable es un string\n"
     ]
    }
   ],
   "source": [
    "print(string.lower())"
   ]
  },
  {
   "cell_type": "markdown",
   "metadata": {},
   "source": [
    "En mayúsculas solo las primeras letras"
   ]
  },
  {
   "cell_type": "code",
   "execution_count": 20,
   "metadata": {},
   "outputs": [
    {
     "data": {
      "text/plain": [
       "'Hola, Esta Variable Es Un String'"
      ]
     },
     "execution_count": 20,
     "metadata": {},
     "output_type": "execute_result"
    }
   ],
   "source": [
    "string.title()"
   ]
  },
  {
   "cell_type": "markdown",
   "metadata": {},
   "source": [
    "Podemos reemplazar un string por otro. En este caso \"**Hola**\" será reemplazado por \"**Hellow**\""
   ]
  },
  {
   "cell_type": "code",
   "execution_count": 21,
   "metadata": {},
   "outputs": [
    {
     "data": {
      "text/plain": [
       "'Hellow, esta variable es un string'"
      ]
     },
     "execution_count": 21,
     "metadata": {},
     "output_type": "execute_result"
    }
   ],
   "source": [
    "string.replace('Hola', 'Hellow')"
   ]
  },
  {
   "cell_type": "markdown",
   "metadata": {},
   "source": [
    "### Variables Booleanas\n"
   ]
  },
  {
   "cell_type": "code",
   "execution_count": 4,
   "metadata": {},
   "outputs": [
    {
     "name": "stdout",
     "output_type": "stream",
     "text": [
      "False\n",
      "True\n"
     ]
    }
   ],
   "source": [
    "a = True\n",
    "b = False\n",
    "\n",
    "print(a == b)\n",
    "print(a != b)"
   ]
  },
  {
   "cell_type": "code",
   "execution_count": 3,
   "metadata": {},
   "outputs": [
    {
     "name": "stdout",
     "output_type": "stream",
     "text": [
      "False\n",
      "False\n",
      "True\n",
      "True\n"
     ]
    }
   ],
   "source": [
    "a = 1\n",
    "b = 2\n",
    "\n",
    "print(a > b)\n",
    "print(a >= b)\n",
    "print(a < b)\n",
    "print(a <= b)"
   ]
  },
  {
   "cell_type": "markdown",
   "metadata": {},
   "source": [
    "***"
   ]
  },
  {
   "cell_type": "markdown",
   "metadata": {},
   "source": [
    "Python dispone de varias estructuras de datos que permiten almacenar colecciones de valores. Cada una de estas estructuras tiene unas propiedades diferentes y cada una es útil para solucionar diferentes problemas las dos estructuras básicas son las **listas** y los **diccionarios**"
   ]
  },
  {
   "cell_type": "markdown",
   "metadata": {},
   "source": [
    "# Listas"
   ]
  },
  {
   "cell_type": "markdown",
   "metadata": {},
   "source": [
    "\n",
    "Una **lista** en Python es una colección de valores, posiblemente **heterogéneos**. Las listas se pueden modificar (son **mutables**), y permiten almacenar elementos **duplicados**.\n",
    "\n",
    "Los elementos de una lista se encuentran ordenados, de tal manera que el primer elemento se encuentra indexado con el 0, el segundo con el 1, etc."
   ]
  },
  {
   "cell_type": "code",
   "execution_count": 7,
   "metadata": {},
   "outputs": [
    {
     "name": "stdout",
     "output_type": "stream",
     "text": [
      "Esto es una lista vacía:   []\n"
     ]
    }
   ],
   "source": [
    "lista1 = list() # o lista1=[]\n",
    "\n",
    "print(\"Esto es una lista vacía:  \",lista1)"
   ]
  },
  {
   "cell_type": "markdown",
   "metadata": {},
   "source": [
    "En una lista se pueden almacenar valores de diferentes tipos"
   ]
  },
  {
   "cell_type": "code",
   "execution_count": 8,
   "metadata": {},
   "outputs": [
    {
     "name": "stdout",
     "output_type": "stream",
     "text": [
      "Esto es una lista con valores:  ['Juan', 2, 3.14, 'Pedro', 'Juan']\n"
     ]
    }
   ],
   "source": [
    "lista2 = ['Juan', 2, 3.14,'Pedro', 'Juan']\n",
    "\n",
    "print(\"Esto es una lista con valores: \",lista2)"
   ]
  },
  {
   "cell_type": "markdown",
   "metadata": {},
   "source": [
    "Para acceder a un elemento se usa: lista[indice]. El indice 0 contiene al primer objeto"
   ]
  },
  {
   "cell_type": "code",
   "execution_count": 9,
   "metadata": {},
   "outputs": [
    {
     "name": "stdout",
     "output_type": "stream",
     "text": [
      "El primer elemento de la lista es:  Juan\n",
      "El segundo elemento de la lista es:  2\n",
      "El tercer elemento de la lista es:  3.14\n"
     ]
    }
   ],
   "source": [
    "print(\"El primer elemento de la lista es: \",lista2[0])\n",
    "print(\"El segundo elemento de la lista es: \",lista2[1])\n",
    "print(\"El tercer elemento de la lista es: \",lista2[2])"
   ]
  },
  {
   "cell_type": "markdown",
   "metadata": {},
   "source": [
    "Eliminamos a Juan de la lista (al primer \"Juan\" que encuentre)"
   ]
  },
  {
   "cell_type": "code",
   "execution_count": 10,
   "metadata": {},
   "outputs": [
    {
     "name": "stdout",
     "output_type": "stream",
     "text": [
      "Lista Original: ['Juan', 2, 3.14, 'Pedro', 'Juan']\n",
      "Quitamos a un Juan de la lista:  [2, 3.14, 'Pedro', 'Juan']\n"
     ]
    }
   ],
   "source": [
    "print(\"Lista Original: {}\".format(lista2))\n",
    "lista2.remove('Juan')\n",
    "print(\"Quitamos a un Juan de la lista: \", lista2)"
   ]
  },
  {
   "cell_type": "markdown",
   "metadata": {},
   "source": [
    "Haremos una revisión general de los **métodos** asociados a las **listas**:\n",
    "\n",
    "Definimos una lista con el nombre **lista**"
   ]
  },
  {
   "cell_type": "code",
   "execution_count": 11,
   "metadata": {},
   "outputs": [
    {
     "name": "stdout",
     "output_type": "stream",
     "text": [
      "Esta es mi lista:  [1, 2, 2, 2, 3, 4]\n"
     ]
    }
   ],
   "source": [
    "lista = [1,2,2,2,3,4]\n",
    "print(\"Esta es mi lista: \", lista)"
   ]
  },
  {
   "cell_type": "markdown",
   "metadata": {},
   "source": [
    "Podemos re ordenarla a la inversa con el método **.reverse()**"
   ]
  },
  {
   "cell_type": "code",
   "execution_count": 12,
   "metadata": {},
   "outputs": [
    {
     "name": "stdout",
     "output_type": "stream",
     "text": [
      "Lista re ordenada:  [4, 3, 2, 2, 2, 1]\n"
     ]
    }
   ],
   "source": [
    "lista.reverse()\n",
    "print(\"Lista re ordenada: \",lista)"
   ]
  },
  {
   "cell_type": "markdown",
   "metadata": {},
   "source": [
    "Podemos agregarle un elemento con el método **.append()**"
   ]
  },
  {
   "cell_type": "code",
   "execution_count": 13,
   "metadata": {},
   "outputs": [
    {
     "name": "stdout",
     "output_type": "stream",
     "text": [
      "Lista agregando un elemeno:  [4, 3, 2, 2, 2, 1, 10]\n"
     ]
    }
   ],
   "source": [
    "lista.append(10)\n",
    "print(\"Lista agregando un elemeno: \",lista)"
   ]
  },
  {
   "cell_type": "markdown",
   "metadata": {},
   "source": [
    "También podemos agregar un elemento definiendo la posición con el método **.insert()**.\n",
    "\n",
    "Recordemos que en python se empieza a contar desde el cero \"0\", por lo tanto agregar un elemento en la posición cero sería en la primera:"
   ]
  },
  {
   "cell_type": "code",
   "execution_count": 14,
   "metadata": {},
   "outputs": [
    {
     "name": "stdout",
     "output_type": "stream",
     "text": [
      "Agregamos el número 99 en la primera posición:  [99, 4, 3, 2, 2, 2, 1, 10]\n"
     ]
    }
   ],
   "source": [
    "lista.insert(0,99)\n",
    "print(\"Agregamos el número 99 en la primera posición: \", lista)"
   ]
  },
  {
   "cell_type": "markdown",
   "metadata": {},
   "source": [
    "Podemos sumar dos listas:"
   ]
  },
  {
   "cell_type": "code",
   "execution_count": 15,
   "metadata": {},
   "outputs": [
    {
     "data": {
      "text/plain": [
       "[99, 4, 3, 2, 2, 2, 1, 10, 66, 22]"
      ]
     },
     "execution_count": 15,
     "metadata": {},
     "output_type": "execute_result"
    }
   ],
   "source": [
    "lista_2 = [66, 22]\n",
    "\n",
    "lista + lista_2"
   ]
  },
  {
   "cell_type": "markdown",
   "metadata": {},
   "source": [
    "Podemos modificar el primer elemento de una lista:\n"
   ]
  },
  {
   "cell_type": "code",
   "execution_count": 17,
   "metadata": {},
   "outputs": [
    {
     "data": {
      "text/plain": [
       "[0, 4, 3, 2, 2, 2, 1, 10]"
      ]
     },
     "execution_count": 17,
     "metadata": {},
     "output_type": "execute_result"
    }
   ],
   "source": [
    "lista[0] = 0\n",
    "lista"
   ]
  },
  {
   "cell_type": "markdown",
   "metadata": {},
   "source": [
    "Podemos ordenar la lista:"
   ]
  },
  {
   "cell_type": "code",
   "execution_count": 18,
   "metadata": {},
   "outputs": [
    {
     "data": {
      "text/plain": [
       "[0, 1, 2, 2, 2, 3, 4, 10]"
      ]
     },
     "execution_count": 18,
     "metadata": {},
     "output_type": "execute_result"
    }
   ],
   "source": [
    "sorted(lista)"
   ]
  },
  {
   "cell_type": "markdown",
   "metadata": {},
   "source": [
    "**sorted** solo funciona con listas que tienen el mismo tipo de dato"
   ]
  },
  {
   "cell_type": "code",
   "execution_count": 19,
   "metadata": {},
   "outputs": [
    {
     "ename": "TypeError",
     "evalue": "'<' not supported between instances of 'int' and 'str'",
     "output_type": "error",
     "traceback": [
      "\u001b[1;31m---------------------------------------------------------------------------\u001b[0m",
      "\u001b[1;31mTypeError\u001b[0m                                 Traceback (most recent call last)",
      "\u001b[1;32m<ipython-input-19-d909e2e2d1c7>\u001b[0m in \u001b[0;36m<module>\u001b[1;34m\u001b[0m\n\u001b[0;32m      1\u001b[0m \u001b[0mlista_3\u001b[0m \u001b[1;33m=\u001b[0m \u001b[1;33m[\u001b[0m\u001b[1;34m\"Juan\"\u001b[0m\u001b[1;33m,\u001b[0m \u001b[1;36m3\u001b[0m\u001b[1;33m,\u001b[0m \u001b[1;36m2\u001b[0m\u001b[1;33m,\u001b[0m \u001b[1;36m1\u001b[0m\u001b[1;33m,\u001b[0m \u001b[1;34m\"Techo\"\u001b[0m\u001b[1;33m]\u001b[0m\u001b[1;33m\u001b[0m\u001b[1;33m\u001b[0m\u001b[0m\n\u001b[1;32m----> 2\u001b[1;33m \u001b[0msorted\u001b[0m\u001b[1;33m(\u001b[0m\u001b[0mlista_3\u001b[0m\u001b[1;33m)\u001b[0m\u001b[1;33m\u001b[0m\u001b[1;33m\u001b[0m\u001b[0m\n\u001b[0m",
      "\u001b[1;31mTypeError\u001b[0m: '<' not supported between instances of 'int' and 'str'"
     ]
    }
   ],
   "source": [
    "lista_3 = [\"Victor\", 3, 2, 1, \"Agustin\"]\n",
    "sorted(lista_3)"
   ]
  },
  {
   "cell_type": "markdown",
   "metadata": {},
   "source": [
    "Si las lista es de str se ordena alfabéticamente"
   ]
  },
  {
   "cell_type": "code",
   "execution_count": 20,
   "metadata": {},
   "outputs": [
    {
     "data": {
      "text/plain": [
       "['Agustin', 'Tatiana', 'Victor']"
      ]
     },
     "execution_count": 20,
     "metadata": {},
     "output_type": "execute_result"
    }
   ],
   "source": [
    "lista_3 = [\"Victor\", \"Tatiana\", \"Agustin\"]\n",
    "sorted(lista_3)"
   ]
  },
  {
   "cell_type": "markdown",
   "metadata": {},
   "source": [
    "Otras funciones para las listas:"
   ]
  },
  {
   "cell_type": "markdown",
   "metadata": {},
   "source": [
    "**min** trae el valor mínimo en la lista"
   ]
  },
  {
   "cell_type": "code",
   "execution_count": 22,
   "metadata": {},
   "outputs": [
    {
     "data": {
      "text/plain": [
       "0"
      ]
     },
     "execution_count": 22,
     "metadata": {},
     "output_type": "execute_result"
    }
   ],
   "source": [
    "min(lista)"
   ]
  },
  {
   "cell_type": "markdown",
   "metadata": {},
   "source": [
    "**max** trae el mayor valor"
   ]
  },
  {
   "cell_type": "code",
   "execution_count": 25,
   "metadata": {},
   "outputs": [
    {
     "data": {
      "text/plain": [
       "10"
      ]
     },
     "execution_count": 25,
     "metadata": {},
     "output_type": "execute_result"
    }
   ],
   "source": [
    "max(lista)"
   ]
  },
  {
   "cell_type": "markdown",
   "metadata": {},
   "source": [
    "Para sumar todos los elementos"
   ]
  },
  {
   "cell_type": "code",
   "execution_count": 26,
   "metadata": {},
   "outputs": [
    {
     "data": {
      "text/plain": [
       "24"
      ]
     },
     "execution_count": 26,
     "metadata": {},
     "output_type": "execute_result"
    }
   ],
   "source": [
    "sum(lista)"
   ]
  },
  {
   "cell_type": "markdown",
   "metadata": {},
   "source": [
    "Para saber la cantidad de elementos"
   ]
  },
  {
   "cell_type": "code",
   "execution_count": 28,
   "metadata": {},
   "outputs": [
    {
     "data": {
      "text/plain": [
       "8"
      ]
     },
     "execution_count": 28,
     "metadata": {},
     "output_type": "execute_result"
    }
   ],
   "source": [
    "len(lista)"
   ]
  },
  {
   "cell_type": "code",
   "execution_count": 29,
   "metadata": {},
   "outputs": [
    {
     "data": {
      "text/plain": [
       "3.0"
      ]
     },
     "execution_count": 29,
     "metadata": {},
     "output_type": "execute_result"
    }
   ],
   "source": [
    "sum(lista) / len(lista)"
   ]
  },
  {
   "cell_type": "markdown",
   "metadata": {},
   "source": [
    "# Diccionarios"
   ]
  },
  {
   "cell_type": "markdown",
   "metadata": {},
   "source": [
    "Los diccionarios representan una colección de datos de pares clave-valor, permiten operaciones básicas de inserción, modificación y eliminación, también permiten recuperar los datos almacenados a través de la clave."
   ]
  },
  {
   "cell_type": "markdown",
   "metadata": {},
   "source": [
    "Diccionario vacío"
   ]
  },
  {
   "cell_type": "code",
   "execution_count": 31,
   "metadata": {},
   "outputs": [
    {
     "data": {
      "text/plain": [
       "{}"
      ]
     },
     "execution_count": 31,
     "metadata": {},
     "output_type": "execute_result"
    }
   ],
   "source": [
    "diccionario = {}\n",
    "diccionario"
   ]
  },
  {
   "cell_type": "code",
   "execution_count": 38,
   "metadata": {},
   "outputs": [
    {
     "data": {
      "text/plain": [
       "{1: 'Buenos Aires', 2: 'Caracas', 3: 'Quito', 4: 'La Paz'}"
      ]
     },
     "execution_count": 38,
     "metadata": {},
     "output_type": "execute_result"
    }
   ],
   "source": [
    "ciudades =  {1:\"Buenos Aires\", \n",
    "             2:\"Caracas\",\n",
    "             3:\"Quito\",\n",
    "             4: \"La Paz\"}\n",
    "\n",
    "ciudades"
   ]
  },
  {
   "cell_type": "markdown",
   "metadata": {},
   "source": [
    "Para acceder a las llaves"
   ]
  },
  {
   "cell_type": "code",
   "execution_count": 39,
   "metadata": {},
   "outputs": [
    {
     "data": {
      "text/plain": [
       "dict_keys([1, 2, 3, 4])"
      ]
     },
     "execution_count": 39,
     "metadata": {},
     "output_type": "execute_result"
    }
   ],
   "source": [
    "ciudades.keys()"
   ]
  },
  {
   "cell_type": "code",
   "execution_count": 44,
   "metadata": {},
   "outputs": [
    {
     "data": {
      "text/plain": [
       "[1, 2, 3, 4]"
      ]
     },
     "execution_count": 44,
     "metadata": {},
     "output_type": "execute_result"
    }
   ],
   "source": [
    "list(ciudades)"
   ]
  },
  {
   "cell_type": "markdown",
   "metadata": {},
   "source": [
    "Para acceder a los valores asociados a las llaves"
   ]
  },
  {
   "cell_type": "code",
   "execution_count": 41,
   "metadata": {},
   "outputs": [
    {
     "data": {
      "text/plain": [
       "dict_values(['Buenos Aires', 'Caracas', 'Quito', 'La Paz'])"
      ]
     },
     "execution_count": 41,
     "metadata": {},
     "output_type": "execute_result"
    }
   ],
   "source": [
    "ciudades.values()"
   ]
  },
  {
   "cell_type": "markdown",
   "metadata": {},
   "source": [
    "Para acceder a los pares llave-valor:"
   ]
  },
  {
   "cell_type": "code",
   "execution_count": 42,
   "metadata": {},
   "outputs": [
    {
     "data": {
      "text/plain": [
       "dict_items([(1, 'Buenos Aires'), (2, 'Caracas'), (3, 'Quito'), (4, 'La Paz')])"
      ]
     },
     "execution_count": 42,
     "metadata": {},
     "output_type": "execute_result"
    }
   ],
   "source": [
    "ciudades.items()"
   ]
  },
  {
   "cell_type": "code",
   "execution_count": 43,
   "metadata": {},
   "outputs": [
    {
     "data": {
      "text/plain": [
       "4"
      ]
     },
     "execution_count": 43,
     "metadata": {},
     "output_type": "execute_result"
    }
   ],
   "source": [
    "len(ciudades)"
   ]
  },
  {
   "cell_type": "code",
   "execution_count": 1,
   "metadata": {},
   "outputs": [],
   "source": [
    "persona = {\n",
    "    'first_name': 'Eric',\n",
    "    'last_name': 'Martinez',\n",
    "    'age': 43,\n",
    "    'city': 'CABA'\n",
    "}"
   ]
  },
  {
   "cell_type": "code",
   "execution_count": 5,
   "metadata": {},
   "outputs": [
    {
     "name": "stdout",
     "output_type": "stream",
     "text": [
      "Eric\n"
     ]
    }
   ],
   "source": [
    "print(persona['first_name'])"
   ]
  },
  {
   "cell_type": "code",
   "execution_count": 7,
   "metadata": {},
   "outputs": [
    {
     "name": "stdout",
     "output_type": "stream",
     "text": [
      "Eric\n",
      "\n",
      "\n",
      "Martinez\n",
      "\n",
      "\n",
      "43\n",
      "\n",
      "\n",
      "CABA\n"
     ]
    }
   ],
   "source": [
    "print(persona['first_name'])\n",
    "print(\"\\n\")\n",
    "print(persona['last_name'])\n",
    "print(\"\\n\")\n",
    "print(persona['age'])\n",
    "print(\"\\n\")\n",
    "print(persona['city'])"
   ]
  },
  {
   "cell_type": "markdown",
   "metadata": {},
   "source": [
    "Una ventaja de los diccionarios es la posibilidad de contener otros diccionarios. Esto permite tener en una variable, una estructura de datos más compleja:"
   ]
  },
  {
   "cell_type": "code",
   "execution_count": 9,
   "metadata": {},
   "outputs": [],
   "source": [
    "paises = {\n",
    "    \n",
    "    \"Argentina\":{\"Continente\": \"América\", \"Capital\": \"Buenos Aires\"},\n",
    "    \"Brasil\":{\"Continente\": \"América\", \"Capital\":\"San Pablo\"},\n",
    "    \"España\":{\"Continente\": \"Europa\", \"Capital\":\"Madrid\"}\n",
    "}"
   ]
  },
  {
   "cell_type": "code",
   "execution_count": 11,
   "metadata": {},
   "outputs": [
    {
     "name": "stdout",
     "output_type": "stream",
     "text": [
      "{'Continente': 'América', 'Capital': 'Buenos Aires'}\n"
     ]
    }
   ],
   "source": [
    "print(paises[\"Argentina\"])"
   ]
  },
  {
   "cell_type": "code",
   "execution_count": 12,
   "metadata": {},
   "outputs": [
    {
     "name": "stdout",
     "output_type": "stream",
     "text": [
      "Buenos Aires\n"
     ]
    }
   ],
   "source": [
    "print(paises[\"Argentina\"][\"Capital\"])"
   ]
  },
  {
   "cell_type": "code",
   "execution_count": 14,
   "metadata": {},
   "outputs": [
    {
     "name": "stdout",
     "output_type": "stream",
     "text": [
      "Madrid\n"
     ]
    }
   ],
   "source": [
    "print(paises[\"España\"][\"Capital\"])"
   ]
  },
  {
   "cell_type": "markdown",
   "metadata": {},
   "source": [
    "## If - Else"
   ]
  },
  {
   "cell_type": "code",
   "execution_count": 14,
   "metadata": {},
   "outputs": [
    {
     "name": "stdout",
     "output_type": "stream",
     "text": [
      "El color es verde\n"
     ]
    }
   ],
   "source": [
    "color = 'Verde'\n",
    "\n",
    "if color == 'Verde':\n",
    "    print(\"El color es verde\")\n",
    "else:\n",
    "    print('El color no es verde')"
   ]
  },
  {
   "cell_type": "code",
   "execution_count": 15,
   "metadata": {},
   "outputs": [
    {
     "name": "stdout",
     "output_type": "stream",
     "text": [
      "x es menor que y\n"
     ]
    }
   ],
   "source": [
    "x=5\n",
    "y=10\n",
    "\n",
    "if x == y:\n",
    "    print('Son iguales')\n",
    "else:\n",
    "    if x < y:\n",
    "        print('x es menor que y')\n",
    "    else:\n",
    "        print('x es mayor que y')"
   ]
  },
  {
   "cell_type": "markdown",
   "metadata": {},
   "source": [
    "## If - Elif - Else"
   ]
  },
  {
   "cell_type": "code",
   "execution_count": 16,
   "metadata": {},
   "outputs": [
    {
     "name": "stdout",
     "output_type": "stream",
     "text": [
      "x es menor que y\n"
     ]
    }
   ],
   "source": [
    "x=5\n",
    "y=10\n",
    "\n",
    "if x == y:\n",
    "    print('Son iguales')\n",
    "\n",
    "elif x < y:\n",
    "    print('x es menor que y')\n",
    "    \n",
    "#elif otra_condicion:\n",
    "#   ......................\n",
    "\n",
    "else:\n",
    "    print('x es mayor que y')"
   ]
  },
  {
   "cell_type": "markdown",
   "metadata": {},
   "source": [
    "## For loop"
   ]
  },
  {
   "cell_type": "code",
   "execution_count": 20,
   "metadata": {
    "scrolled": true
   },
   "outputs": [
    {
     "name": "stdout",
     "output_type": "stream",
     "text": [
      "pepperoni\n",
      "hawaiana\n",
      "veggie\n"
     ]
    }
   ],
   "source": [
    "favorite_pizzas = ['pepperoni', 'hawaiana', 'veggie']\n",
    "\n",
    "# Imprime el nombre de las pizzas de la lista.\n",
    "for pizza in favorite_pizzas:\n",
    "    print(pizza)\n",
    "    "
   ]
  },
  {
   "cell_type": "code",
   "execution_count": 25,
   "metadata": {},
   "outputs": [
    {
     "name": "stdout",
     "output_type": "stream",
     "text": [
      "Trabaja a través de una colección de elementos, uno a la vez.\n",
      "float\n",
      "expresión booleana\n",
      "string\n",
      "comment\n",
      "list\n",
      "for\n",
      "dictionary\n",
      "clave\n",
      "valor\n",
      "Un valor numérico con un componente decimal\n",
      "Una expresión que se evalúa como verdadera o falsa\n",
      "Una serie de caracteres\n",
      "Una nota en un programa que el intérprete de Python ignora\n",
      "Una colección de elementos en un orden determinado\n",
      "Trabaja a través de una colección de elementos, uno a la vez.\n",
      "Una colección de pares clave-valor\n",
      "El primer elemento de un par clave-valor en un diccionario.\n",
      "Un elemento asociado a una clave en un diccionario.\n",
      "float Un valor numérico con un componente decimal\n",
      "expresión booleana Una expresión que se evalúa como verdadera o falsa\n",
      "string Una serie de caracteres\n",
      "comment Una nota en un programa que el intérprete de Python ignora\n",
      "list Una colección de elementos en un orden determinado\n",
      "for Trabaja a través de una colección de elementos, uno a la vez.\n",
      "dictionary Una colección de pares clave-valor\n",
      "clave El primer elemento de un par clave-valor en un diccionario.\n",
      "valor Un elemento asociado a una clave en un diccionario.\n"
     ]
    }
   ],
   "source": [
    "glosario = {\n",
    "    'float': 'Un valor numérico con un componente decimal', # 4.5\n",
    "    'expresión booleana': 'Una expresión que se evalúa como verdadera o falsa', # True , 2==3 (False)\n",
    "    'string': 'Una serie de caracteres', # \"Hola\"\n",
    "    'comment': 'Una nota en un programa que el intérprete de Python ignora', # Este comentario\n",
    "    'list': 'Una colección de elementos en un orden determinado', #[1,2,3,4]\n",
    "    'for': 'Trabaja a través de una colección de elementos, uno a la vez.', #Ver ejemplo arriba\n",
    "    'dictionary': \"Una colección de pares clave-valor\", #Este mismo glosario es un diccionario\n",
    "    'clave': 'El primer elemento de un par clave-valor en un diccionario.', # 'clave' es una clave\n",
    "    'valor': 'Un elemento asociado a una clave en un diccionario.', # El valor asociado a clave es 'Un elemento asociado a una clave en un diccionario.'\n",
    "    }\n",
    "\n",
    "print(glosario['for'])\n",
    "\n",
    "#Imprime todas las keys:\n",
    "\n",
    "for key in glosario.keys():\n",
    "    print(key)\n",
    "\n",
    "#Imprime todos los valores\n",
    "for value in glosario.values():\n",
    "    print(value)\n",
    "\n",
    "#Imprime todos los key-values\n",
    "for key,value in glosario.items():\n",
    "    print(key,value)"
   ]
  },
  {
   "cell_type": "code",
   "execution_count": 29,
   "metadata": {},
   "outputs": [
    {
     "name": "stdout",
     "output_type": "stream",
     "text": [
      "Hola\n",
      "Esto es un mensaje\n"
     ]
    }
   ],
   "source": [
    "## Funcion\n",
    "\n",
    "def imprimir_mensaje_predeterminado():\n",
    "    msg = \"Esto es un mensaje\"\n",
    "    print(msg)\n",
    "\n",
    "def imprimir_mensaje(msg):\n",
    "    print(msg)\n",
    "\n",
    "imprimir_mensaje('Hola')\n",
    "imprimir_mensaje_predeterminado()"
   ]
  },
  {
   "cell_type": "code",
   "execution_count": 31,
   "metadata": {},
   "outputs": [
    {
     "name": "stdout",
     "output_type": "stream",
     "text": [
      "Santiago, Chile\n",
      "Ushuaia, Argentina\n",
      "Longyearbyen, Svalbard\n"
     ]
    }
   ],
   "source": [
    "def ciudad_pais(city, country):\n",
    "    \"\"\"Retorna un string del tipo 'Santiago, Chile'.\"\"\"\n",
    "    return(city.title() + \", \" + country.title())\n",
    "\n",
    "city = ciudad_pais('santiago', 'chile')\n",
    "print(city)\n",
    "\n",
    "city = ciudad_pais('ushuaia', 'argentina')\n",
    "print(city)\n",
    "\n",
    "city = ciudad_pais('longyearbyen', 'svalbard')\n",
    "print(city)"
   ]
  }
 ],
 "metadata": {
  "kernelspec": {
   "display_name": "Python 3",
   "language": "python",
   "name": "python3"
  },
  "language_info": {
   "codemirror_mode": {
    "name": "ipython",
    "version": 3
   },
   "file_extension": ".py",
   "mimetype": "text/x-python",
   "name": "python",
   "nbconvert_exporter": "python",
   "pygments_lexer": "ipython3",
   "version": "3.7.3"
  }
 },
 "nbformat": 4,
 "nbformat_minor": 5
}
