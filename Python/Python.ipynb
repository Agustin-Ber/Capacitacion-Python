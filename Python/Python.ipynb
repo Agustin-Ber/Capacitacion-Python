{
 "cells": [
  {
   "cell_type": "markdown",
   "id": "fd6af872",
   "metadata": {},
   "source": [
    "# Módulo 1 - Python"
   ]
  },
  {
   "cell_type": "markdown",
   "id": "f1a8e6eb",
   "metadata": {},
   "source": [
    "### Python es un lenguaje de programación interpretado, orientado a objetos, de alto nivel y con semántica dinámica.\n",
    "\n",
    "### Python admite módulos y paquetes, lo que fomenta la modularidad del programa y la reutilización del código. "
   ]
  },
  {
   "cell_type": "markdown",
   "id": "080c17a1",
   "metadata": {},
   "source": [
    "## Anaconda"
   ]
  },
  {
   "cell_type": "markdown",
   "id": "9b60e361",
   "metadata": {},
   "source": [
    "### Anaconda es una suite de código abierto que abarca una serie de aplicaciones, librerías y conceptos diseñados para el desarrollo de la ciencia de datos con Python."
   ]
  },
  {
   "cell_type": "code",
   "execution_count": 4,
   "id": "094ec48b",
   "metadata": {},
   "outputs": [],
   "source": [
    "# Funciones Básicas"
   ]
  },
  {
   "cell_type": "code",
   "execution_count": 11,
   "id": "579d36fb",
   "metadata": {},
   "outputs": [
    {
     "name": "stdout",
     "output_type": "stream",
     "text": [
      "El usuario lee este mensajea\n"
     ]
    }
   ],
   "source": [
    "nombre= input('Por favor ingrese su nombre: ') \n",
    "#Se pasa un mensaje por pantalla y le pide que ingrese un valor, que se guarda en la variable 'nombre'"
   ]
  },
  {
   "cell_type": "code",
   "execution_count": 6,
   "id": "ffb8a9b6",
   "metadata": {},
   "outputs": [],
   "source": [
    "#Los comentarios se hacen con un asterisco antes de la linea\n",
    "#Para correr un bloque de código, se presiona shift+Enter\n"
   ]
  },
  {
   "cell_type": "code",
   "execution_count": 7,
   "id": "431a3cc5",
   "metadata": {},
   "outputs": [
    {
     "name": "stdout",
     "output_type": "stream",
     "text": [
      "Hola, me llamo Juan\n"
     ]
    }
   ],
   "source": [
    "msg = \"Hola, me llamo Juan\"\n",
    "#msg es una variable de tipo string, que contiene el string \"Hola, me llamo Juan\"\n",
    "print(msg)\n",
    "#print es una función que imprime el valor o variable que le pasemos"
   ]
  },
  {
   "cell_type": "code",
   "execution_count": 8,
   "id": "038145dd",
   "metadata": {},
   "outputs": [
    {
     "ename": "NameError",
     "evalue": "name 'fav_num' is not defined",
     "output_type": "error",
     "traceback": [
      "\u001b[1;31m---------------------------------------------------------------------------\u001b[0m",
      "\u001b[1;31mNameError\u001b[0m                                 Traceback (most recent call last)",
      "\u001b[1;32m<ipython-input-8-78381d60c5d6>\u001b[0m in \u001b[0;36m<module>\u001b[1;34m\u001b[0m\n\u001b[1;32m----> 1\u001b[1;33m \u001b[0mmsg\u001b[0m \u001b[1;33m=\u001b[0m \u001b[1;34m\"My favorite number is \"\u001b[0m \u001b[1;33m+\u001b[0m \u001b[0mstr\u001b[0m\u001b[1;33m(\u001b[0m\u001b[0mfav_num\u001b[0m\u001b[1;33m)\u001b[0m \u001b[1;33m+\u001b[0m \u001b[1;34m\".\"\u001b[0m\u001b[1;33m\u001b[0m\u001b[1;33m\u001b[0m\u001b[0m\n\u001b[0m\u001b[0;32m      2\u001b[0m \u001b[1;31m# El simbolo + se usa para concatenar strings\u001b[0m\u001b[1;33m\u001b[0m\u001b[1;33m\u001b[0m\u001b[1;33m\u001b[0m\u001b[0m\n",
      "\u001b[1;31mNameError\u001b[0m: name 'fav_num' is not defined"
     ]
    }
   ],
   "source": [
    "msg = \"My favorite number is \" + str(fav_num) + \".\"\n",
    "# El simbolo + se usa para concatenar strings"
   ]
  },
  {
   "cell_type": "markdown",
   "id": "5ef41a86",
   "metadata": {},
   "source": [
    "## Listas"
   ]
  },
  {
   "cell_type": "code",
   "execution_count": 9,
   "id": "ce07642e",
   "metadata": {},
   "outputs": [
    {
     "ename": "SyntaxError",
     "evalue": "cannot delete literal (<ipython-input-9-9c32ad66850c>, line 13)",
     "output_type": "error",
     "traceback": [
      "\u001b[1;36m  File \u001b[1;32m\"<ipython-input-9-9c32ad66850c>\"\u001b[1;36m, line \u001b[1;32m13\u001b[0m\n\u001b[1;33m    del('Juan')\u001b[0m\n\u001b[1;37m       ^\u001b[0m\n\u001b[1;31mSyntaxError\u001b[0m\u001b[1;31m:\u001b[0m cannot delete literal\n"
     ]
    }
   ],
   "source": [
    "lista1 = list() # o lista=[]\n",
    "#lista es una lista vacía\n",
    "lista2 = ['Juan', 2, 3.14,'Juan']\n",
    "#names es una lista\n",
    "#Una lista es una coleccion de elementos con un orden particular\n",
    "#Para acceder a un elemento se usa: lista[indice]. El indice 0 contiene al primer objeto\n",
    "\n",
    "print(names[0])\n",
    "print(names[1])\n",
    "print(names[2])\n",
    "\n",
    "names.remove('Juan') #Eliminamos a Juan de la lista (al primero que encuentre)\n",
    "print(names)\n",
    "\n",
    "del(names[0]) #Elimina al primer elemento de la lista\n",
    "print(names)\n",
    "\n",
    "names.append('Pedro') #Agregamos a Pedro a la lista\n",
    "print(names)\n",
    "\n",
    "nuevaLista = sorted(names) #ordena la lista y la guarda en otra nueva"
   ]
  },
  {
   "cell_type": "markdown",
   "id": "5d76a4ec",
   "metadata": {},
   "source": [
    "## If - Else"
   ]
  },
  {
   "cell_type": "code",
   "execution_count": null,
   "id": "b2d0a8cf",
   "metadata": {},
   "outputs": [],
   "source": [
    "alien_color = 'green'\n",
    "\n",
    "if alien_color == 'green':\n",
    "    print(\"You just earned 5 points!\")\n",
    "\n",
    "else:\n",
    "    print('Nada')"
   ]
  },
  {
   "cell_type": "code",
   "execution_count": null,
   "id": "0b8d0eee",
   "metadata": {},
   "outputs": [],
   "source": [
    "x=5\n",
    "y=10\n",
    "\n",
    "if x == y:\n",
    "    print('Son iguales')\n",
    "else:\n",
    "    if x < y:\n",
    "        print('x es menor que y')\n",
    "    else:\n",
    "        print('x es mayor que y')"
   ]
  },
  {
   "cell_type": "markdown",
   "id": "316509a7",
   "metadata": {},
   "source": [
    "## For loop"
   ]
  },
  {
   "cell_type": "code",
   "execution_count": null,
   "id": "30c28236",
   "metadata": {},
   "outputs": [],
   "source": [
    "favorite_pizzas = ['pepperoni', 'hawaiian', 'veggie']\n",
    "\n",
    "# Print the names of all the pizzas.\n",
    "for pizza in favorite_pizzas:\n",
    "    print(pizza)\n",
    "    \n",
    "numbers = list(range(1, 1000001))\n",
    "\n",
    "print(min(numbers))\n",
    "print(max(numbers))\n",
    "print(sum(numbers))"
   ]
  },
  {
   "cell_type": "markdown",
   "id": "2b059046",
   "metadata": {},
   "source": [
    "## Diccionarios"
   ]
  },
  {
   "cell_type": "code",
   "execution_count": 10,
   "id": "b9853414",
   "metadata": {},
   "outputs": [],
   "source": [
    "person = {\n",
    "    'first_name': 'eric',\n",
    "    'last_name': 'matthes',\n",
    "    'age': 43,\n",
    "    'city': 'sitka',\n",
    "    }"
   ]
  },
  {
   "cell_type": "code",
   "execution_count": null,
   "id": "3c6e72f3",
   "metadata": {},
   "outputs": [],
   "source": [
    "print(person['first_name'])\n",
    "print(person['last_name'])\n",
    "print(person['age'])\n",
    "print(person['city'])"
   ]
  },
  {
   "cell_type": "code",
   "execution_count": null,
   "id": "1dabcef4",
   "metadata": {},
   "outputs": [],
   "source": [
    "glosario = {\n",
    "    'float': 'Un valor numérico con un componente decimal', # 4.5\n",
    "    'expresión booleana': 'Una expresión que se evalúa como verdadera o falsa', # True , 2==3 (False)\n",
    "    'string': 'Una serie de caracteres', # \"Hola\"\n",
    "    'comment': 'Una nota en un programa que el intérprete de Python ignora', # Este comentario\n",
    "    'list': 'Una colección de elementos en un orden determinado', #[1,2,3,4]\n",
    "    'for': 'Trabaja a través de una colección de elementos, uno a la vez.', #Ver ejemplo arriba\n",
    "    'dictionary': \"Una colección de pares clave-valor\", #Este mismo glosario es un diccionario\n",
    "    'clave': 'El primer elemento de un par clave-valor en un diccionario.', # 'clave' es una clave\n",
    "    'valor': 'Un elemento asociado a una clave en un diccionario.', # El valor asociado a clave es 'Un elemento asociado a una clave en un diccionario.'\n",
    "    }\n",
    "\n",
    "print(glosario['for'])\n",
    "\n",
    "#Imprime todas las keys:\n",
    "\n",
    "for key in glosario.keys():\n",
    "    print(key)\n",
    "\n",
    "#Imprime todos los valores\n",
    "for value in glosario.values():\n",
    "    print(value)\n",
    "\n",
    "#Imprime todos los key-values\n",
    "for key,value in glosario.items():\n",
    "    print(key,value)"
   ]
  },
  {
   "cell_type": "code",
   "execution_count": 12,
   "id": "5f016b67",
   "metadata": {},
   "outputs": [],
   "source": [
    "## Funcion\n",
    "\n",
    "def imprimir_mensaje_predeterminado():\n",
    "    msg = \"I'm learning to store code in functions.\"\n",
    "    print(msg)\n",
    "\n",
    "def imprimir_mensaje(msg):\n",
    "    print(msg)"
   ]
  },
  {
   "cell_type": "code",
   "execution_count": null,
   "id": "aff16632",
   "metadata": {},
   "outputs": [],
   "source": [
    "def city_country(city, country):\n",
    "    \"\"\"Return a string like 'Santiago, Chile'.\"\"\"\n",
    "    return(city.title() + \", \" + country.title())\n",
    "\n",
    "city = city_country('santiago', 'chile')\n",
    "print(city)\n",
    "\n",
    "city = city_country('ushuaia', 'argentina')\n",
    "print(city)\n",
    "\n",
    "city = city_country('longyearbyen', 'svalbard')\n",
    "print(city)"
   ]
  },
  {
   "cell_type": "markdown",
   "id": "5fac709e",
   "metadata": {},
   "source": [
    "## API - JSON"
   ]
  },
  {
   "cell_type": "code",
   "execution_count": 14,
   "id": "9ac8452b",
   "metadata": {},
   "outputs": [],
   "source": [
    "import requests"
   ]
  },
  {
   "cell_type": "code",
   "execution_count": 15,
   "id": "3005a50e",
   "metadata": {
    "scrolled": true
   },
   "outputs": [
    {
     "name": "stdout",
     "output_type": "stream",
     "text": [
      "Status code: 200\n",
      "Total repositories: 14093446\n"
     ]
    }
   ],
   "source": [
    "# Make an API call, and store the response.\n",
    "url = 'https://api.github.com/search/repositories?q=language:javascript&sort=stars'\n",
    "r = requests.get(url)\n",
    "print(\"Status code:\", r.status_code)\n",
    "\n",
    "# Store API response in a variable.\n",
    "response_dict = r.json()\n",
    "print(\"Total repositories:\", response_dict['total_count'])\n",
    "\n",
    "# Explore information about the repositories.\n",
    "repo_dicts = response_dict['items']\n",
    "\n",
    "names, plot_dicts = [], []\n",
    "for repo_dict in repo_dicts:\n",
    "    names.append(repo_dict['name'])\n",
    "\n",
    "    # When a project is removed, it's still listed with stars.\n",
    "    #   So it's in the top projects, but has no description. The description\n",
    "    #   is None, which causes an exception when being used as a label.\n",
    "    if repo_dict['description']:\n",
    "        desc = repo_dict['description']\n",
    "    else:\n",
    "        desc = 'No description provided.'\n",
    "    \n",
    "    plot_dict = {\n",
    "        'value': repo_dict['stargazers_count'],\n",
    "        'label': desc,\n",
    "        'xlink': repo_dict['html_url'],\n",
    "        }\n",
    "    plot_dicts.append(plot_dict)"
   ]
  }
 ],
 "metadata": {
  "kernelspec": {
   "display_name": "Python 3",
   "language": "python",
   "name": "python3"
  },
  "language_info": {
   "codemirror_mode": {
    "name": "ipython",
    "version": 3
   },
   "file_extension": ".py",
   "mimetype": "text/x-python",
   "name": "python",
   "nbconvert_exporter": "python",
   "pygments_lexer": "ipython3",
   "version": "3.8.8"
  }
 },
 "nbformat": 4,
 "nbformat_minor": 5
}
