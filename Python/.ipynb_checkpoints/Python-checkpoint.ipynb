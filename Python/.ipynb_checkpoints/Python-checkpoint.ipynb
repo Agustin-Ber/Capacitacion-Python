{
 "cells": [
  {
   "cell_type": "markdown",
   "metadata": {},
   "source": [
    "# Módulo 1"
   ]
  },
  {
   "cell_type": "markdown",
   "metadata": {},
   "source": [
    "### Contenidos\n",
    "- [Introducción a Python](#Introducción-a-Python)\n",
    "- [Section 2](#Anaconda)\n",
    "- [Section 3](#Section-3)"
   ]
  },
  {
   "cell_type": "markdown",
   "metadata": {},
   "source": [
    "## Introducción a Python\n",
    "------------------------\n",
    "\n",
    "¿Qué es **Python**?\n",
    "\n",
    "[**Python**](https://es.wikipedia.org/wiki/Python#Historia) es un lenguaje de programación interpretado, orientado a objetos, de alto nivel y con semántica dinámica.\n",
    "Python admite módulos y paquetes, lo que fomenta la modularidad del programa y la reutilización del código.\n",
    "\n",
    "<br>\n",
    "\n",
    "<br>\n",
    "\n",
    "**Breve historia sobre python:**\n",
    "\n",
    "\n",
    "El lenguaje fue desarrollado por [Guido Van Rossum](https://es.wikipedia.org/wiki/Guido_van_Rossum) mientras se encontraba trabajando en el Centro para las Matemáticas y la Informática (CWI) en los Países Bajos, en el año 1989, aunque su primera versión fue publicada en 1991.\n",
    "\n",
    "Python como lenguaje de programación hace un enfásis especial en su capacidad para ser leído por otros programadores. Esta aparante sencillez a la hora de leer el código le ha permitido gozar de una gran popularidad en general. Esta misma característica de simplicidad llevó a establecer una especie de filosofía al momento de desarrollar con este lenguaje:\n",
    "\n",
    "<br>\n",
    "\n",
    "<br>\n",
    "\n",
    "[**The Zen of Python**](https://www.python.org/dev/peps/pep-0020/)\n",
    "1. Beautiful is better than ugly.\n",
    "2. Explicit is better than implicit.\n",
    "3.   Simple is better than complex.\n",
    "4.    Complex is better than complicated.\n",
    "5.    Flat is better than nested.\n",
    "6.    Sparse is better than dense.\n",
    "7.    Readability counts.\n",
    "8.    Special cases aren't special enough to break the rules.\n",
    "9.    Although practicality beats purity.\n",
    "10.    Errors should never pass silently.\n",
    "11.    Unless explicitly silenced.\n",
    "12.    In the face of ambiguity, refuse the temptation to guess.\n",
    "13.    There should be one -and preferably only one- obvious way to do it.\n",
    "14.    Although that way may not be obvious at first unless you're Dutch.\n",
    "15.    Now is better than never.\n",
    "16.    Although never is often better than *right* now.\n",
    "17.    If the implementation is hard to explain, it's a bad idea.\n",
    "18.    If the implementation is easy to explain, it may be a good idea.\n",
    "19.    Namespaces are one honking great idea -let's do more of those!-"
   ]
  },
  {
   "cell_type": "markdown",
   "metadata": {},
   "source": [
    "### Intérprete vs Script\n",
    "\n",
    "Existen dos formas básicas de ejecutar código en Python:\n",
    "\n",
    "1. Ejecutar el intérprete de Python desde una terminal\n",
    "2. Escribir código en un fichero con extensión **.py** (conocido de forma común como script) y ejecutarlo en una terminal. \n",
    "\n",
    "<br>\n",
    "\n",
    "<br>\n",
    "\n",
    "Mostramos dos ejemplos básicos:\n",
    "\n",
    "Hacemos un print a la cadena de carácteres **Hola Havas**, acá estamos ejecutando código directamente desde la terminal\n",
    "\n",
    "<img src=\"imgs/terminal_1.png\">\n",
    "\n",
    "En este segundo ejemplo ejecutamos un fichero con extensión **.py** en el que ya está escrito el código\n",
    "\n",
    "<img src=\"imgs/terminal_2.png\">\n"
   ]
  },
  {
   "cell_type": "markdown",
   "metadata": {},
   "source": [
    "### IPython y Notebook\n",
    "[IPython](http://ipython.org/) o Interactive Python es conjunto de herramientas que fueron desarrolladas con el objetivo de facilitar el desarrollo y procesamiento de datos en python. "
   ]
  },
  {
   "cell_type": "markdown",
   "metadata": {},
   "source": [
    "### Anaconda\n",
    "\n",
    "Anaconda es una suite de código abierto que abarca una serie de aplicaciones, librerías y conceptos diseñados para el desarrollo de la ciencia de datos con Python."
   ]
  },
  {
   "cell_type": "markdown",
   "metadata": {},
   "source": [
    "### Variables y Tipos de datos\n",
    "\n",
    "Existen 3 tipos de variables básicas en python:\n",
    "\n",
    "- Int: Integer o Entero\n",
    "- Float: Número decimal\n",
    "- String: Cadena de carácteres\n",
    "- Bool: Booleanos, True o False\n",
    "\n",
    "Además existen dos estructuras o colecciones de datos:\n",
    "\n",
    "- Lista: list, implica una lista de elemenos\n",
    "- Diccionario: conjunto de valores con una llave y un valor\n"
   ]
  },
  {
   "cell_type": "markdown",
   "metadata": {},
   "source": [
    "Para declarar una variable, se utiliza el símbolo **=**"
   ]
  },
  {
   "cell_type": "code",
   "execution_count": 2,
   "metadata": {},
   "outputs": [
    {
     "name": "stdout",
     "output_type": "stream",
     "text": [
      "Hola Havas!\n"
     ]
    }
   ],
   "source": [
    "variable_1 = \"Hola Havas!\"\n",
    "\n",
    "# Con la función print() es posible imprimir o visualizar el contenido de una variable ya definida\n",
    "print(variable_1)"
   ]
  },
  {
   "cell_type": "markdown",
   "metadata": {},
   "source": [
    "Con la función **type()** podemos saber el tipo de dato de una variable"
   ]
  },
  {
   "cell_type": "code",
   "execution_count": 3,
   "metadata": {},
   "outputs": [
    {
     "data": {
      "text/plain": [
       "str"
      ]
     },
     "execution_count": 3,
     "metadata": {},
     "output_type": "execute_result"
    }
   ],
   "source": [
    "type(variable_1)"
   ]
  },
  {
   "cell_type": "markdown",
   "metadata": {},
   "source": [
    "### Variables Númericas"
   ]
  },
  {
   "cell_type": "markdown",
   "metadata": {},
   "source": [
    "A continuación se presentan las operaciones básicas con python:\n",
    "\n",
    "<img src=\"imgs/Operaciones.png\">"
   ]
  },
  {
   "cell_type": "code",
   "execution_count": 10,
   "metadata": {},
   "outputs": [
    {
     "name": "stdout",
     "output_type": "stream",
     "text": [
      "Suma: 5\n",
      "Resta: -1\n",
      "División: 0.6666666666666666\n",
      "Resto de la división: 2\n",
      "Pasamos a float: 2.0\n"
     ]
    }
   ],
   "source": [
    "x = 2\n",
    "y = 3\n",
    "\n",
    "print(\"Suma: {}\".format( x + y))\n",
    "print(\"Resta: {}\".format( x - y))\n",
    "print(\"División: {}\".format( x / y))\n",
    "print(\"Resto de la división: {}\".format( x % y))\n",
    "\n",
    "print(\"Pasamos a float: {}\".format(float(x)))"
   ]
  },
  {
   "cell_type": "code",
   "execution_count": 1,
   "metadata": {},
   "outputs": [],
   "source": [
    "x = 6\n",
    "y = 4"
   ]
  },
  {
   "cell_type": "markdown",
   "metadata": {},
   "source": [
    "Suma de las variables **x** + **y**"
   ]
  },
  {
   "cell_type": "code",
   "execution_count": 2,
   "metadata": {},
   "outputs": [
    {
     "data": {
      "text/plain": [
       "10"
      ]
     },
     "execution_count": 2,
     "metadata": {},
     "output_type": "execute_result"
    }
   ],
   "source": [
    "x + y "
   ]
  },
  {
   "cell_type": "markdown",
   "metadata": {},
   "source": [
    "Multiplicación de las variables x + y"
   ]
  },
  {
   "cell_type": "code",
   "execution_count": 3,
   "metadata": {},
   "outputs": [
    {
     "data": {
      "text/plain": [
       "24"
      ]
     },
     "execution_count": 3,
     "metadata": {},
     "output_type": "execute_result"
    }
   ],
   "source": [
    "x * y"
   ]
  },
  {
   "cell_type": "markdown",
   "metadata": {},
   "source": [
    "Elevamos **x** a la potencia **y**"
   ]
  },
  {
   "cell_type": "code",
   "execution_count": 4,
   "metadata": {},
   "outputs": [
    {
     "data": {
      "text/plain": [
       "1296"
      ]
     },
     "execution_count": 4,
     "metadata": {},
     "output_type": "execute_result"
    }
   ],
   "source": [
    "x ** y"
   ]
  },
  {
   "cell_type": "markdown",
   "metadata": {},
   "source": [
    "Dividimos **x** entre **y**"
   ]
  },
  {
   "cell_type": "code",
   "execution_count": 5,
   "metadata": {},
   "outputs": [
    {
     "data": {
      "text/plain": [
       "1.5"
      ]
     },
     "execution_count": 5,
     "metadata": {},
     "output_type": "execute_result"
    }
   ],
   "source": [
    "x / y"
   ]
  },
  {
   "cell_type": "markdown",
   "metadata": {},
   "source": [
    "Nos quedamos con el resto de la división entre **x** & **y** "
   ]
  },
  {
   "cell_type": "code",
   "execution_count": 6,
   "metadata": {},
   "outputs": [
    {
     "data": {
      "text/plain": [
       "2"
      ]
     },
     "execution_count": 6,
     "metadata": {},
     "output_type": "execute_result"
    }
   ],
   "source": [
    "x % y"
   ]
  },
  {
   "cell_type": "markdown",
   "metadata": {},
   "source": [
    "### Variables Strings"
   ]
  },
  {
   "cell_type": "code",
   "execution_count": 9,
   "metadata": {},
   "outputs": [
    {
     "name": "stdout",
     "output_type": "stream",
     "text": [
      "Hola, esta variable es un string\n"
     ]
    }
   ],
   "source": [
    "string = \"Hola, esta variable es un string\"\n",
    "print(string)"
   ]
  },
  {
   "cell_type": "markdown",
   "metadata": {},
   "source": [
    "Podemos sumar dos strings "
   ]
  },
  {
   "cell_type": "code",
   "execution_count": 12,
   "metadata": {},
   "outputs": [
    {
     "name": "stdout",
     "output_type": "stream",
     "text": [
      "Hola, esta variable es un string y Esto también es un string\n"
     ]
    }
   ],
   "source": [
    "string_2 = \"Esto también es un string\"\n",
    "\n",
    "print(string + \" y \" +string_2)"
   ]
  },
  {
   "cell_type": "markdown",
   "metadata": {},
   "source": [
    "Podemos multiplicar strings"
   ]
  },
  {
   "cell_type": "code",
   "execution_count": 13,
   "metadata": {},
   "outputs": [
    {
     "name": "stdout",
     "output_type": "stream",
     "text": [
      "Hola!Hola!Hola!\n"
     ]
    }
   ],
   "source": [
    "string_3 = \"Hola!\"\n",
    "print(string_3 * 3)"
   ]
  },
  {
   "cell_type": "markdown",
   "metadata": {},
   "source": []
  },
  {
   "cell_type": "code",
   "execution_count": 14,
   "metadata": {},
   "outputs": [
    {
     "data": {
      "text/plain": [
       "'H'"
      ]
     },
     "execution_count": 14,
     "metadata": {},
     "output_type": "execute_result"
    }
   ],
   "source": [
    "string[0]"
   ]
  },
  {
   "cell_type": "code",
   "execution_count": 15,
   "metadata": {},
   "outputs": [
    {
     "data": {
      "text/plain": [
       "'Hola, esta'"
      ]
     },
     "execution_count": 15,
     "metadata": {},
     "output_type": "execute_result"
    }
   ],
   "source": [
    "string[0:10]"
   ]
  },
  {
   "cell_type": "code",
   "execution_count": 16,
   "metadata": {},
   "outputs": [
    {
     "data": {
      "text/plain": [
       "'HOLA, ESTA VARIABLE ES UN STRING'"
      ]
     },
     "execution_count": 16,
     "metadata": {},
     "output_type": "execute_result"
    }
   ],
   "source": [
    "string.upper()"
   ]
  },
  {
   "cell_type": "code",
   "execution_count": 17,
   "metadata": {},
   "outputs": [
    {
     "data": {
      "text/plain": [
       "'hola, esta variable es un string'"
      ]
     },
     "execution_count": 17,
     "metadata": {},
     "output_type": "execute_result"
    }
   ],
   "source": [
    "string.lower()"
   ]
  },
  {
   "cell_type": "code",
   "execution_count": 18,
   "metadata": {},
   "outputs": [
    {
     "data": {
      "text/plain": [
       "'Hola, Esta Variable Es Un String'"
      ]
     },
     "execution_count": 18,
     "metadata": {},
     "output_type": "execute_result"
    }
   ],
   "source": [
    "string.title()"
   ]
  },
  {
   "cell_type": "code",
   "execution_count": 19,
   "metadata": {},
   "outputs": [
    {
     "data": {
      "text/plain": [
       "'Hellow, esta variable es un string'"
      ]
     },
     "execution_count": 19,
     "metadata": {},
     "output_type": "execute_result"
    }
   ],
   "source": [
    "string.replace('Hola', 'Hellow')"
   ]
  },
  {
   "cell_type": "markdown",
   "metadata": {},
   "source": [
    "### Variables Booleanas\n"
   ]
  },
  {
   "cell_type": "code",
   "execution_count": 4,
   "metadata": {},
   "outputs": [],
   "source": [
    "# Funciones Básicas"
   ]
  },
  {
   "cell_type": "code",
   "execution_count": 11,
   "metadata": {},
   "outputs": [
    {
     "name": "stdout",
     "output_type": "stream",
     "text": [
      "El usuario lee este mensajea\n"
     ]
    }
   ],
   "source": [
    "nombre= input('Por favor ingrese su nombre: ') \n",
    "#Se pasa un mensaje por pantalla y le pide que ingrese un valor, que se guarda en la variable 'nombre'"
   ]
  },
  {
   "cell_type": "code",
   "execution_count": 6,
   "metadata": {},
   "outputs": [],
   "source": [
    "#Los comentarios se hacen con un asterisco antes de la linea\n",
    "#Para correr un bloque de código, se presiona shift+Enter\n"
   ]
  },
  {
   "cell_type": "code",
   "execution_count": 7,
   "metadata": {},
   "outputs": [
    {
     "name": "stdout",
     "output_type": "stream",
     "text": [
      "Hola, me llamo Juan\n"
     ]
    }
   ],
   "source": [
    "msg = \"Hola, me llamo Juan\"\n",
    "#msg es una variable de tipo string, que contiene el string \"Hola, me llamo Juan\"\n",
    "print(msg)\n",
    "#print es una función que imprime el valor o variable que le pasemos"
   ]
  },
  {
   "cell_type": "code",
   "execution_count": 2,
   "metadata": {},
   "outputs": [
    {
     "name": "stdout",
     "output_type": "stream",
     "text": [
      "Mi numero favorito es 8.\n"
     ]
    }
   ],
   "source": [
    "fav_num=8\n",
    "msg = \"Mi numero favorito es \" + str(fav_num) + \".\"\n",
    "print(msg)\n",
    "# El simbolo + se usa para concatenar strings"
   ]
  },
  {
   "cell_type": "markdown",
   "metadata": {},
   "source": [
    "***"
   ]
  },
  {
   "cell_type": "markdown",
   "metadata": {},
   "source": [
    "Python dispone de varias estructuras de datos que permiten almacenar colecciones de valores. Cada una de estas estructuras tiene unas propiedades diferentes y cada una es útil para solucionar diferentes problemas"
   ]
  },
  {
   "cell_type": "markdown",
   "metadata": {},
   "source": [
    "# Listas"
   ]
  },
  {
   "cell_type": "markdown",
   "metadata": {},
   "source": [
    "\n",
    "Una **lista** en Python es una colección de valores, posiblemente **heterogéneos**. Las listas se pueden modificar (son **mutables**), y permiten almacenar elementos **duplicados**.\n",
    "\n",
    "Los elementos de una lista se encuentran ordenados, de tal manera que el primer elemento se encuentra indexado con el 0, el segundo con el 1, etc."
   ]
  },
  {
   "cell_type": "code",
   "execution_count": 4,
   "metadata": {},
   "outputs": [
    {
     "name": "stdout",
     "output_type": "stream",
     "text": [
      "Esto es una lista vacía:   []\n"
     ]
    }
   ],
   "source": [
    "lista1 = list() # o lista1=[]\n",
    "\n",
    "print(\"Esto es una lista vacía:  \",lista1)"
   ]
  },
  {
   "cell_type": "code",
   "execution_count": 5,
   "metadata": {},
   "outputs": [
    {
     "name": "stdout",
     "output_type": "stream",
     "text": [
      "Esto es una lista con valores:  ['Juan', 2, 3.14, 'Pedro', 'Juan']\n"
     ]
    }
   ],
   "source": [
    "lista2 = ['Juan', 2, 3.14,'Pedro', 'Juan']\n",
    "\n",
    "print(\"Esto es una lista con valores: \",lista2)"
   ]
  },
  {
   "cell_type": "markdown",
   "metadata": {},
   "source": [
    "Para acceder a un elemento se usa: lista[indice]. El indice 0 contiene al primer objeto"
   ]
  },
  {
   "cell_type": "code",
   "execution_count": 6,
   "metadata": {},
   "outputs": [
    {
     "name": "stdout",
     "output_type": "stream",
     "text": [
      "El primer elemento de la lista es:  Juan\n",
      "El segundo elemento de la lista es:  2\n",
      "El tercer elemento de la lista es:  3.14\n"
     ]
    }
   ],
   "source": [
    "print(\"El primer elemento de la lista es: \",lista2[0])\n",
    "print(\"El segundo elemento de la lista es: \",lista2[1])\n",
    "print(\"El tercer elemento de la lista es: \",lista2[2])"
   ]
  },
  {
   "cell_type": "markdown",
   "metadata": {},
   "source": [
    "Eliminamos a Juan de la lista (al primer \"Juan\" que encuentre)"
   ]
  },
  {
   "cell_type": "code",
   "execution_count": 7,
   "metadata": {},
   "outputs": [
    {
     "name": "stdout",
     "output_type": "stream",
     "text": [
      "Lista Original: ['Juan', 2, 3.14, 'Pedro', 'Juan']\n",
      "Quitamos a un Juan de la lista: [2, 3.14, 'Pedro', 'Juan']\n"
     ]
    }
   ],
   "source": [
    "print(\"Lista Original: {}\".format(lista2))\n",
    "lista2.remove('Juan')\n",
    "print(\"Quitamos a un Juan de la lista: \", lista2)"
   ]
  },
  {
   "cell_type": "markdown",
   "metadata": {},
   "source": [
    "Haremos una revisión general de los **métodos** asociados a las **listas**:\n",
    "\n",
    "Definimos una lista con el nombre **lista**"
   ]
  },
  {
   "cell_type": "code",
   "execution_count": 9,
   "metadata": {},
   "outputs": [
    {
     "name": "stdout",
     "output_type": "stream",
     "text": [
      "Esta es mi lista:  [1, 2, 2, 2, 3, 4]\n"
     ]
    }
   ],
   "source": [
    "lista = [1,2,2,2,3,4]\n",
    "print(\"Esta es mi lista: \", lista)"
   ]
  },
  {
   "cell_type": "markdown",
   "metadata": {},
   "source": [
    "Podemos re ordenarla a la inversa con el método **.reverse()**"
   ]
  },
  {
   "cell_type": "code",
   "execution_count": 10,
   "metadata": {},
   "outputs": [
    {
     "name": "stdout",
     "output_type": "stream",
     "text": [
      "lista re ordenada:  [4, 3, 2, 2, 2, 1]\n"
     ]
    }
   ],
   "source": [
    "lista.reverse()\n",
    "print(\"Lista re ordenada: \",lista)"
   ]
  },
  {
   "cell_type": "markdown",
   "metadata": {},
   "source": [
    "Podemos agregarle un elemento con el método **.append()**"
   ]
  },
  {
   "cell_type": "code",
   "execution_count": 11,
   "metadata": {},
   "outputs": [
    {
     "name": "stdout",
     "output_type": "stream",
     "text": [
      "lista agregando un elemeno:  [4, 3, 2, 2, 2, 1, 10]\n"
     ]
    }
   ],
   "source": [
    "lista.append(10)\n",
    "print(\"Lista agregando un elemeno: \",lista)"
   ]
  },
  {
   "cell_type": "markdown",
   "metadata": {},
   "source": [
    "También podemos agregar un elemento definiendo la posición con el método **.insert()**.\n",
    "\n",
    "Recordemos que en python se empieza a contar desde el cero \"0\", por lo tanto agregar un elemento en la posición cero sería en la primera:"
   ]
  },
  {
   "cell_type": "code",
   "execution_count": 12,
   "metadata": {},
   "outputs": [
    {
     "name": "stdout",
     "output_type": "stream",
     "text": [
      "Agregamos el número 99 en la primera posición:  [99, 4, 3, 2, 2, 2, 1, 10]\n"
     ]
    }
   ],
   "source": [
    "lista.insert(0,99)\n",
    "print(\"Agregamos el número 99 en la primera posición: \", lista)"
   ]
  },
  {
   "cell_type": "markdown",
   "metadata": {},
   "source": [
    "## Funciones listas"
   ]
  },
  {
   "cell_type": "code",
   "execution_count": 22,
   "metadata": {},
   "outputs": [
    {
     "name": "stdout",
     "output_type": "stream",
     "text": [
      "1\n",
      "1000000\n",
      "500000500000\n",
      "500000.5\n"
     ]
    }
   ],
   "source": [
    "numbers = list(range(1, 1000001))\n",
    "\n",
    "print(min(numbers))\n",
    "print(max(numbers))\n",
    "print(sum(numbers))\n",
    "print(sum(numbers)/len(numbers))"
   ]
  },
  {
   "cell_type": "markdown",
   "metadata": {},
   "source": [
    "## If - Else"
   ]
  },
  {
   "cell_type": "code",
   "execution_count": 14,
   "metadata": {},
   "outputs": [
    {
     "name": "stdout",
     "output_type": "stream",
     "text": [
      "El color es verde\n"
     ]
    }
   ],
   "source": [
    "color = 'Verde'\n",
    "\n",
    "if color == 'Verde':\n",
    "    print(\"El color es verde\")\n",
    "else:\n",
    "    print('El color no es verde')"
   ]
  },
  {
   "cell_type": "code",
   "execution_count": 15,
   "metadata": {},
   "outputs": [
    {
     "name": "stdout",
     "output_type": "stream",
     "text": [
      "x es menor que y\n"
     ]
    }
   ],
   "source": [
    "x=5\n",
    "y=10\n",
    "\n",
    "if x == y:\n",
    "    print('Son iguales')\n",
    "else:\n",
    "    if x < y:\n",
    "        print('x es menor que y')\n",
    "    else:\n",
    "        print('x es mayor que y')"
   ]
  },
  {
   "cell_type": "markdown",
   "metadata": {},
   "source": [
    "## If - Elif - Else"
   ]
  },
  {
   "cell_type": "code",
   "execution_count": 16,
   "metadata": {},
   "outputs": [
    {
     "name": "stdout",
     "output_type": "stream",
     "text": [
      "x es menor que y\n"
     ]
    }
   ],
   "source": [
    "x=5\n",
    "y=10\n",
    "\n",
    "if x == y:\n",
    "    print('Son iguales')\n",
    "\n",
    "elif x < y:\n",
    "    print('x es menor que y')\n",
    "    \n",
    "#elif otra_condicion:\n",
    "#   ......................\n",
    "\n",
    "else:\n",
    "    print('x es mayor que y')"
   ]
  },
  {
   "cell_type": "markdown",
   "metadata": {},
   "source": [
    "## For loop"
   ]
  },
  {
   "cell_type": "code",
   "execution_count": 20,
   "metadata": {
    "scrolled": true
   },
   "outputs": [
    {
     "name": "stdout",
     "output_type": "stream",
     "text": [
      "pepperoni\n",
      "hawaiana\n",
      "veggie\n"
     ]
    }
   ],
   "source": [
    "favorite_pizzas = ['pepperoni', 'hawaiana', 'veggie']\n",
    "\n",
    "# Imprime el nombre de las pizzas de la lista.\n",
    "for pizza in favorite_pizzas:\n",
    "    print(pizza)\n",
    "    "
   ]
  },
  {
   "cell_type": "markdown",
   "metadata": {},
   "source": [
    "## Diccionarios"
   ]
  },
  {
   "cell_type": "code",
   "execution_count": 23,
   "metadata": {},
   "outputs": [],
   "source": [
    "person = {\n",
    "    'first_name': 'eric',\n",
    "    'last_name': 'matthes',\n",
    "    'age': 43,\n",
    "    'city': 'sitka',\n",
    "    }"
   ]
  },
  {
   "cell_type": "code",
   "execution_count": 24,
   "metadata": {},
   "outputs": [
    {
     "name": "stdout",
     "output_type": "stream",
     "text": [
      "eric\n",
      "matthes\n",
      "43\n",
      "sitka\n"
     ]
    }
   ],
   "source": [
    "print(person['first_name'])\n",
    "print(person['last_name'])\n",
    "print(person['age'])\n",
    "print(person['city'])"
   ]
  },
  {
   "cell_type": "code",
   "execution_count": 25,
   "metadata": {},
   "outputs": [
    {
     "name": "stdout",
     "output_type": "stream",
     "text": [
      "Trabaja a través de una colección de elementos, uno a la vez.\n",
      "float\n",
      "expresión booleana\n",
      "string\n",
      "comment\n",
      "list\n",
      "for\n",
      "dictionary\n",
      "clave\n",
      "valor\n",
      "Un valor numérico con un componente decimal\n",
      "Una expresión que se evalúa como verdadera o falsa\n",
      "Una serie de caracteres\n",
      "Una nota en un programa que el intérprete de Python ignora\n",
      "Una colección de elementos en un orden determinado\n",
      "Trabaja a través de una colección de elementos, uno a la vez.\n",
      "Una colección de pares clave-valor\n",
      "El primer elemento de un par clave-valor en un diccionario.\n",
      "Un elemento asociado a una clave en un diccionario.\n",
      "float Un valor numérico con un componente decimal\n",
      "expresión booleana Una expresión que se evalúa como verdadera o falsa\n",
      "string Una serie de caracteres\n",
      "comment Una nota en un programa que el intérprete de Python ignora\n",
      "list Una colección de elementos en un orden determinado\n",
      "for Trabaja a través de una colección de elementos, uno a la vez.\n",
      "dictionary Una colección de pares clave-valor\n",
      "clave El primer elemento de un par clave-valor en un diccionario.\n",
      "valor Un elemento asociado a una clave en un diccionario.\n"
     ]
    }
   ],
   "source": [
    "glosario = {\n",
    "    'float': 'Un valor numérico con un componente decimal', # 4.5\n",
    "    'expresión booleana': 'Una expresión que se evalúa como verdadera o falsa', # True , 2==3 (False)\n",
    "    'string': 'Una serie de caracteres', # \"Hola\"\n",
    "    'comment': 'Una nota en un programa que el intérprete de Python ignora', # Este comentario\n",
    "    'list': 'Una colección de elementos en un orden determinado', #[1,2,3,4]\n",
    "    'for': 'Trabaja a través de una colección de elementos, uno a la vez.', #Ver ejemplo arriba\n",
    "    'dictionary': \"Una colección de pares clave-valor\", #Este mismo glosario es un diccionario\n",
    "    'clave': 'El primer elemento de un par clave-valor en un diccionario.', # 'clave' es una clave\n",
    "    'valor': 'Un elemento asociado a una clave en un diccionario.', # El valor asociado a clave es 'Un elemento asociado a una clave en un diccionario.'\n",
    "    }\n",
    "\n",
    "print(glosario['for'])\n",
    "\n",
    "#Imprime todas las keys:\n",
    "\n",
    "for key in glosario.keys():\n",
    "    print(key)\n",
    "\n",
    "#Imprime todos los valores\n",
    "for value in glosario.values():\n",
    "    print(value)\n",
    "\n",
    "#Imprime todos los key-values\n",
    "for key,value in glosario.items():\n",
    "    print(key,value)"
   ]
  },
  {
   "cell_type": "code",
   "execution_count": 29,
   "metadata": {},
   "outputs": [
    {
     "name": "stdout",
     "output_type": "stream",
     "text": [
      "Hola\n",
      "Esto es un mensaje\n"
     ]
    }
   ],
   "source": [
    "## Funcion\n",
    "\n",
    "def imprimir_mensaje_predeterminado():\n",
    "    msg = \"Esto es un mensaje\"\n",
    "    print(msg)\n",
    "\n",
    "def imprimir_mensaje(msg):\n",
    "    print(msg)\n",
    "\n",
    "imprimir_mensaje('Hola')\n",
    "imprimir_mensaje_predeterminado()"
   ]
  },
  {
   "cell_type": "code",
   "execution_count": 31,
   "metadata": {},
   "outputs": [
    {
     "name": "stdout",
     "output_type": "stream",
     "text": [
      "Santiago, Chile\n",
      "Ushuaia, Argentina\n",
      "Longyearbyen, Svalbard\n"
     ]
    }
   ],
   "source": [
    "def ciudad_pais(city, country):\n",
    "    \"\"\"Retorna un string del tipo 'Santiago, Chile'.\"\"\"\n",
    "    return(city.title() + \", \" + country.title())\n",
    "\n",
    "city = ciudad_pais('santiago', 'chile')\n",
    "print(city)\n",
    "\n",
    "city = ciudad_pais('ushuaia', 'argentina')\n",
    "print(city)\n",
    "\n",
    "city = ciudad_pais('longyearbyen', 'svalbard')\n",
    "print(city)"
   ]
  }
 ],
 "metadata": {
  "kernelspec": {
   "display_name": "Python 3",
   "language": "python",
   "name": "python3"
  },
  "language_info": {
   "codemirror_mode": {
    "name": "ipython",
    "version": 3
   },
   "file_extension": ".py",
   "mimetype": "text/x-python",
   "name": "python",
   "nbconvert_exporter": "python",
   "pygments_lexer": "ipython3",
   "version": "3.7.3"
  }
 },
 "nbformat": 4,
 "nbformat_minor": 5
}
